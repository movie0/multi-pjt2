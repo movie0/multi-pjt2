{
 "cells": [
  {
   "cell_type": "code",
   "execution_count": 1,
   "id": "347878e8",
   "metadata": {},
   "outputs": [],
   "source": [
    "import pandas as pd\n",
    "import numpy as np"
   ]
  },
  {
   "cell_type": "markdown",
   "id": "3b855c49",
   "metadata": {},
   "source": [
    "#### 2019년 1분기"
   ]
  },
  {
   "cell_type": "code",
   "execution_count": 2,
   "id": "e64a2c8b",
   "metadata": {
    "scrolled": true
   },
   "outputs": [],
   "source": [
    "#데이터셋 가져오기\n",
    "df20191 = pd.read_csv('report.txt', delimiter = \"\\t\")\n",
    "\n",
    "df20191.rename(columns=df20191.iloc[0])\n",
    "df20191 = df20191.drop(index=[0], axis=0)\n",
    "\n",
    "#기간을 연도와 분기 컬럼으로 나누기\n",
    "year = []\n",
    "for i in df20191['기간']:\n",
    "    year.append(i.split('.')[0])\n",
    "df20191['연도']=year\n",
    "\n",
    "quarter = []\n",
    "for i in df20191['기간']:\n",
    "    quarter.append(i.split('.')[1])\n",
    "df20191['분기']=quarter\n",
    "\n",
    "for i in df20191['분기']:\n",
    "    quarter = i.split('/')[0]\n",
    "df20191['분기']=quarter\n",
    "\n",
    "df20191 = df20191.drop('기간', axis=1)"
   ]
  },
  {
   "cell_type": "markdown",
   "id": "02970e7f",
   "metadata": {},
   "source": [
    "#### 2019년 2분기"
   ]
  },
  {
   "cell_type": "code",
   "execution_count": 3,
   "id": "3cd36d80",
   "metadata": {},
   "outputs": [],
   "source": [
    "#데이터셋 가져오기\n",
    "df20192 = pd.read_csv('report (1).txt', delimiter = \"\\t\")\n",
    "\n",
    "df20192.rename(columns=df20191.iloc[0])\n",
    "df20192 = df20192.drop(index=[0], axis=0)\n",
    "\n",
    "#기간을 연도와 분기 컬럼으로 나누기\n",
    "year = []\n",
    "for i in df20192['기간']:\n",
    "    year.append(i.split('.')[0])\n",
    "df20192['연도']=year\n",
    "\n",
    "quarter = []\n",
    "for i in df20192['기간']:\n",
    "    quarter.append(i.split('.')[1])\n",
    "df20192['분기']=quarter\n",
    "\n",
    "for i in df20192['분기']:\n",
    "    quarter = i.split('/')[0]\n",
    "df20192['분기']=quarter\n",
    "\n",
    "df20192 = df20192.drop('기간', axis=1)"
   ]
  },
  {
   "cell_type": "markdown",
   "id": "2426ca37",
   "metadata": {},
   "source": [
    "#### 2019년 3분기"
   ]
  },
  {
   "cell_type": "code",
   "execution_count": 4,
   "id": "799d70c2",
   "metadata": {},
   "outputs": [],
   "source": [
    "#데이터셋 가져오기\n",
    "df20193 = pd.read_csv('report (2).txt', delimiter = \"\\t\")\n",
    "\n",
    "df20193.rename(columns=df20193.iloc[0])\n",
    "df20193 = df20193.drop(index=[0], axis=0)\n",
    "\n",
    "#기간을 연도와 분기 컬럼으로 나누기\n",
    "year = []\n",
    "for i in df20193['기간']:\n",
    "    year.append(i.split('.')[0])\n",
    "df20193['연도']=year\n",
    "\n",
    "quarter = []\n",
    "for i in df20193['기간']:\n",
    "    quarter.append(i.split('.')[1])\n",
    "df20193['분기']=quarter\n",
    "\n",
    "for i in df20193['분기']:\n",
    "    quarter = i.split('/')[0]\n",
    "df20193['분기']=quarter\n",
    "\n",
    "df20193 = df20193.drop('기간', axis=1)"
   ]
  },
  {
   "cell_type": "markdown",
   "id": "86d36bd4",
   "metadata": {},
   "source": [
    "#### 2019년 4분기"
   ]
  },
  {
   "cell_type": "code",
   "execution_count": 5,
   "id": "4cd0250a",
   "metadata": {},
   "outputs": [],
   "source": [
    "#데이터셋 가져오기\n",
    "df20194 = pd.read_csv('report (3).txt', delimiter = \"\\t\")\n",
    "\n",
    "df20194.rename(columns=df20194.iloc[0])\n",
    "df20194 = df20194.drop(index=[0], axis=0)\n",
    "\n",
    "#기간을 연도와 분기 컬럼으로 나누기\n",
    "year = []\n",
    "for i in df20194['기간']:\n",
    "    year.append(i.split('.')[0])\n",
    "df20194['연도']=year\n",
    "\n",
    "quarter = []\n",
    "for i in df20194['기간']:\n",
    "    quarter.append(i.split('.')[1])\n",
    "df20194['분기']=quarter\n",
    "\n",
    "for i in df20194['분기']:\n",
    "    quarter = i.split('/')[0]\n",
    "df20194['분기']=quarter\n",
    "\n",
    "df20194 = df20194.drop('기간', axis=1)"
   ]
  },
  {
   "cell_type": "markdown",
   "id": "a7be2731",
   "metadata": {},
   "source": [
    "#### 2020년 1분기"
   ]
  },
  {
   "cell_type": "code",
   "execution_count": 6,
   "id": "ea049613",
   "metadata": {},
   "outputs": [],
   "source": [
    "#데이터셋 가져오기\n",
    "df20201 = pd.read_csv('report (4).txt', delimiter = \"\\t\")\n",
    "\n",
    "df20201.rename(columns=df20201.iloc[0])\n",
    "df20201 = df20201.drop(index=[0], axis=0)\n",
    "\n",
    "#기간을 연도와 분기 컬럼으로 나누기\n",
    "year = []\n",
    "for i in df20201['기간']:\n",
    "    year.append(i.split('.')[0])\n",
    "df20201['연도']=year\n",
    "\n",
    "quarter = []\n",
    "for i in df20201['기간']:\n",
    "    quarter.append(i.split('.')[1])\n",
    "df20201['분기']=quarter\n",
    "\n",
    "for i in df20201['분기']:\n",
    "    quarter = i.split('/')[0]\n",
    "df20201['분기']=quarter\n",
    "\n",
    "df20201 = df20201.drop('기간', axis=1)"
   ]
  },
  {
   "cell_type": "markdown",
   "id": "f577c723",
   "metadata": {},
   "source": [
    "#### 2020년 2분기"
   ]
  },
  {
   "cell_type": "code",
   "execution_count": 7,
   "id": "35a7143f",
   "metadata": {},
   "outputs": [],
   "source": [
    "#데이터셋 가져오기\n",
    "df20202 = pd.read_csv('report (5).txt', delimiter = \"\\t\")\n",
    "\n",
    "df20202.rename(columns=df20202.iloc[0])\n",
    "df20202 = df20202.drop(index=[0], axis=0)\n",
    "\n",
    "#기간을 연도와 분기 컬럼으로 나누기\n",
    "year = []\n",
    "for i in df20202['기간']:\n",
    "    year.append(i.split('.')[0])\n",
    "df20202['연도']=year\n",
    "\n",
    "quarter = []\n",
    "for i in df20202['기간']:\n",
    "    quarter.append(i.split('.')[1])\n",
    "df20202['분기']=quarter\n",
    "\n",
    "for i in df20202['분기']:\n",
    "    quarter = i.split('/')[0]\n",
    "df20202['분기']=quarter\n",
    "\n",
    "df20202 = df20202.drop('기간', axis=1)"
   ]
  },
  {
   "cell_type": "markdown",
   "id": "ac8e5c97",
   "metadata": {},
   "source": [
    "#### 2020년 3분기"
   ]
  },
  {
   "cell_type": "code",
   "execution_count": 8,
   "id": "3aa9d93b",
   "metadata": {},
   "outputs": [],
   "source": [
    "#데이터셋 가져오기\n",
    "df20203 = pd.read_csv('report (6).txt', delimiter = \"\\t\")\n",
    "\n",
    "df20203.rename(columns=df20203.iloc[0])\n",
    "df20203 = df20203.drop(index=[0], axis=0)\n",
    "\n",
    "#기간을 연도와 분기 컬럼으로 나누기\n",
    "year = []\n",
    "for i in df20203['기간']:\n",
    "    year.append(i.split('.')[0])\n",
    "df20203['연도']=year\n",
    "\n",
    "quarter = []\n",
    "for i in df20203['기간']:\n",
    "    quarter.append(i.split('.')[1])\n",
    "df20203['분기']=quarter\n",
    "\n",
    "for i in df20203['분기']:\n",
    "    quarter = i.split('/')[0]\n",
    "df20203['분기']=quarter\n",
    "\n",
    "df20203 = df20203.drop('기간', axis=1)"
   ]
  },
  {
   "cell_type": "markdown",
   "id": "4fae2977",
   "metadata": {},
   "source": [
    "#### 2020년 4분기"
   ]
  },
  {
   "cell_type": "code",
   "execution_count": 9,
   "id": "8e77bb76",
   "metadata": {},
   "outputs": [],
   "source": [
    "#데이터셋 가져오기\n",
    "df20204 = pd.read_csv('report (7).txt', delimiter = \"\\t\")\n",
    "\n",
    "df20204.rename(columns=df20204.iloc[0])\n",
    "df20204 = df20204.drop(index=[0], axis=0)\n",
    "\n",
    "#기간을 연도와 분기 컬럼으로 나누기\n",
    "year = []\n",
    "for i in df20204['기간']:\n",
    "    year.append(i.split('.')[0])\n",
    "df20204['연도']=year\n",
    "\n",
    "quarter = []\n",
    "for i in df20204['기간']:\n",
    "    quarter.append(i.split('.')[1])\n",
    "df20204['분기']=quarter\n",
    "\n",
    "for i in df20204['분기']:\n",
    "    quarter = i.split('/')[0]\n",
    "df20204['분기']=quarter\n",
    "\n",
    "df20204 = df20204.drop('기간', axis=1)"
   ]
  },
  {
   "cell_type": "code",
   "execution_count": 10,
   "id": "fcb0915c",
   "metadata": {},
   "outputs": [],
   "source": [
    "df = pd.concat([df20191, df20192, df20193, df20194, df20201, df20202, df20203, df20204])"
   ]
  },
  {
   "cell_type": "code",
   "execution_count": 11,
   "id": "b7c91c4f",
   "metadata": {
    "scrolled": false
   },
   "outputs": [
    {
     "data": {
      "text/html": [
       "<div>\n",
       "<style scoped>\n",
       "    .dataframe tbody tr th:only-of-type {\n",
       "        vertical-align: middle;\n",
       "    }\n",
       "\n",
       "    .dataframe tbody tr th {\n",
       "        vertical-align: top;\n",
       "    }\n",
       "\n",
       "    .dataframe thead th {\n",
       "        text-align: right;\n",
       "    }\n",
       "</style>\n",
       "<table border=\"1\" class=\"dataframe\">\n",
       "  <thead>\n",
       "    <tr style=\"text-align: right;\">\n",
       "      <th></th>\n",
       "      <th>광역상권</th>\n",
       "      <th>하위상권</th>\n",
       "      <th>임대료</th>\n",
       "      <th>공실률</th>\n",
       "      <th>수익률 정보</th>\n",
       "      <th>수익률 정보.1</th>\n",
       "      <th>수익률 정보.2</th>\n",
       "      <th>연도</th>\n",
       "      <th>분기</th>\n",
       "    </tr>\n",
       "  </thead>\n",
       "  <tbody>\n",
       "    <tr>\n",
       "      <th>1</th>\n",
       "      <td>서울</td>\n",
       "      <td>서울</td>\n",
       "      <td>57.9</td>\n",
       "      <td>7.5</td>\n",
       "      <td>1.73</td>\n",
       "      <td>0.92</td>\n",
       "      <td>0.81</td>\n",
       "      <td>2019</td>\n",
       "      <td>1</td>\n",
       "    </tr>\n",
       "    <tr>\n",
       "      <th>2</th>\n",
       "      <td>도심지역</td>\n",
       "      <td>소계</td>\n",
       "      <td>99.9</td>\n",
       "      <td>7</td>\n",
       "      <td>1.75</td>\n",
       "      <td>1.01</td>\n",
       "      <td>0.73</td>\n",
       "      <td>2019</td>\n",
       "      <td>1</td>\n",
       "    </tr>\n",
       "    <tr>\n",
       "      <th>3</th>\n",
       "      <td>도심지역</td>\n",
       "      <td>광화문</td>\n",
       "      <td>87.2</td>\n",
       "      <td>10</td>\n",
       "      <td>1.59</td>\n",
       "      <td>1.1</td>\n",
       "      <td>0.49</td>\n",
       "      <td>2019</td>\n",
       "      <td>1</td>\n",
       "    </tr>\n",
       "    <tr>\n",
       "      <th>4</th>\n",
       "      <td>도심지역</td>\n",
       "      <td>동대문</td>\n",
       "      <td>36.6</td>\n",
       "      <td>10.6</td>\n",
       "      <td>1.53</td>\n",
       "      <td>0.88</td>\n",
       "      <td>0.64</td>\n",
       "      <td>2019</td>\n",
       "      <td>1</td>\n",
       "    </tr>\n",
       "    <tr>\n",
       "      <th>5</th>\n",
       "      <td>도심지역</td>\n",
       "      <td>명동</td>\n",
       "      <td>295.1</td>\n",
       "      <td>8.8</td>\n",
       "      <td>1.67</td>\n",
       "      <td>0.94</td>\n",
       "      <td>0.73</td>\n",
       "      <td>2019</td>\n",
       "      <td>1</td>\n",
       "    </tr>\n",
       "    <tr>\n",
       "      <th>...</th>\n",
       "      <td>...</td>\n",
       "      <td>...</td>\n",
       "      <td>...</td>\n",
       "      <td>...</td>\n",
       "      <td>...</td>\n",
       "      <td>...</td>\n",
       "      <td>...</td>\n",
       "      <td>...</td>\n",
       "      <td>...</td>\n",
       "    </tr>\n",
       "    <tr>\n",
       "      <th>51</th>\n",
       "      <td>기타지역</td>\n",
       "      <td>장안동</td>\n",
       "      <td>32.7</td>\n",
       "      <td>11</td>\n",
       "      <td>1.39</td>\n",
       "      <td>0.66</td>\n",
       "      <td>0.72</td>\n",
       "      <td>2020</td>\n",
       "      <td>4</td>\n",
       "    </tr>\n",
       "    <tr>\n",
       "      <th>52</th>\n",
       "      <td>기타지역</td>\n",
       "      <td>천호</td>\n",
       "      <td>43.8</td>\n",
       "      <td>5.7</td>\n",
       "      <td>2.01</td>\n",
       "      <td>0.82</td>\n",
       "      <td>1.19</td>\n",
       "      <td>2020</td>\n",
       "      <td>4</td>\n",
       "    </tr>\n",
       "    <tr>\n",
       "      <th>53</th>\n",
       "      <td>기타지역</td>\n",
       "      <td>청량리</td>\n",
       "      <td>46.7</td>\n",
       "      <td>4.6</td>\n",
       "      <td>1.86</td>\n",
       "      <td>0.84</td>\n",
       "      <td>1.01</td>\n",
       "      <td>2020</td>\n",
       "      <td>4</td>\n",
       "    </tr>\n",
       "    <tr>\n",
       "      <th>54</th>\n",
       "      <td>기타지역</td>\n",
       "      <td>혜화동</td>\n",
       "      <td>66.8</td>\n",
       "      <td>14.6</td>\n",
       "      <td>0.93</td>\n",
       "      <td>0.63</td>\n",
       "      <td>0.3</td>\n",
       "      <td>2020</td>\n",
       "      <td>4</td>\n",
       "    </tr>\n",
       "    <tr>\n",
       "      <th>55</th>\n",
       "      <td>기타지역</td>\n",
       "      <td>화곡</td>\n",
       "      <td>34.4</td>\n",
       "      <td>12.5</td>\n",
       "      <td>1.76</td>\n",
       "      <td>0.88</td>\n",
       "      <td>0.87</td>\n",
       "      <td>2020</td>\n",
       "      <td>4</td>\n",
       "    </tr>\n",
       "  </tbody>\n",
       "</table>\n",
       "<p>400 rows × 9 columns</p>\n",
       "</div>"
      ],
      "text/plain": [
       "    광역상권 하위상권    임대료   공실률 수익률 정보 수익률 정보.1 수익률 정보.2    연도 분기\n",
       "1     서울   서울   57.9   7.5   1.73     0.92     0.81  2019  1\n",
       "2   도심지역   소계   99.9     7   1.75     1.01     0.73  2019  1\n",
       "3   도심지역  광화문   87.2    10   1.59      1.1     0.49  2019  1\n",
       "4   도심지역  동대문   36.6  10.6   1.53     0.88     0.64  2019  1\n",
       "5   도심지역   명동  295.1   8.8   1.67     0.94     0.73  2019  1\n",
       "..   ...  ...    ...   ...    ...      ...      ...   ... ..\n",
       "51  기타지역  장안동   32.7    11   1.39     0.66     0.72  2020  4\n",
       "52  기타지역   천호   43.8   5.7   2.01     0.82     1.19  2020  4\n",
       "53  기타지역  청량리   46.7   4.6   1.86     0.84     1.01  2020  4\n",
       "54  기타지역  혜화동   66.8  14.6   0.93     0.63      0.3  2020  4\n",
       "55  기타지역   화곡   34.4  12.5   1.76     0.88     0.87  2020  4\n",
       "\n",
       "[400 rows x 9 columns]"
      ]
     },
     "execution_count": 11,
     "metadata": {},
     "output_type": "execute_result"
    }
   ],
   "source": [
    "df"
   ]
  },
  {
   "cell_type": "code",
   "execution_count": 12,
   "id": "51f8ad2e",
   "metadata": {},
   "outputs": [],
   "source": [
    "df.to_csv('rent.csv')"
   ]
  },
  {
   "cell_type": "code",
   "execution_count": 13,
   "id": "9759f718",
   "metadata": {},
   "outputs": [
    {
     "data": {
      "text/plain": [
       "(45, 9)"
      ]
     },
     "execution_count": 13,
     "metadata": {},
     "output_type": "execute_result"
    }
   ],
   "source": [
    "df20191.shape"
   ]
  },
  {
   "cell_type": "code",
   "execution_count": 14,
   "id": "8b6fc138",
   "metadata": {},
   "outputs": [
    {
     "data": {
      "text/plain": [
       "(45, 9)"
      ]
     },
     "execution_count": 14,
     "metadata": {},
     "output_type": "execute_result"
    }
   ],
   "source": [
    "df20192.shape"
   ]
  },
  {
   "cell_type": "code",
   "execution_count": 15,
   "id": "2a998e5a",
   "metadata": {},
   "outputs": [
    {
     "data": {
      "text/plain": [
       "(45, 9)"
      ]
     },
     "execution_count": 15,
     "metadata": {},
     "output_type": "execute_result"
    }
   ],
   "source": [
    "df20193.shape"
   ]
  },
  {
   "cell_type": "code",
   "execution_count": 17,
   "id": "d2a8110f",
   "metadata": {},
   "outputs": [
    {
     "data": {
      "text/plain": [
       "(45, 9)"
      ]
     },
     "execution_count": 17,
     "metadata": {},
     "output_type": "execute_result"
    }
   ],
   "source": [
    "df20194.shape"
   ]
  },
  {
   "cell_type": "code",
   "execution_count": 18,
   "id": "5c18b99a",
   "metadata": {},
   "outputs": [
    {
     "data": {
      "text/plain": [
       "(55, 9)"
      ]
     },
     "execution_count": 18,
     "metadata": {},
     "output_type": "execute_result"
    }
   ],
   "source": [
    "df20201.shape"
   ]
  },
  {
   "cell_type": "code",
   "execution_count": 19,
   "id": "d2894cb0",
   "metadata": {},
   "outputs": [
    {
     "data": {
      "text/plain": [
       "(55, 9)"
      ]
     },
     "execution_count": 19,
     "metadata": {},
     "output_type": "execute_result"
    }
   ],
   "source": [
    "df20202.shape"
   ]
  },
  {
   "cell_type": "code",
   "execution_count": 20,
   "id": "5444370f",
   "metadata": {},
   "outputs": [
    {
     "data": {
      "text/plain": [
       "(55, 9)"
      ]
     },
     "execution_count": 20,
     "metadata": {},
     "output_type": "execute_result"
    }
   ],
   "source": [
    "df20203.shape"
   ]
  },
  {
   "cell_type": "code",
   "execution_count": 21,
   "id": "6e5754d6",
   "metadata": {},
   "outputs": [
    {
     "data": {
      "text/plain": [
       "(55, 9)"
      ]
     },
     "execution_count": 21,
     "metadata": {},
     "output_type": "execute_result"
    }
   ],
   "source": [
    "df20204.shape"
   ]
  }
 ],
 "metadata": {
  "kernelspec": {
   "display_name": "geo_env",
   "language": "python",
   "name": "geo_env"
  },
  "language_info": {
   "codemirror_mode": {
    "name": "ipython",
    "version": 3
   },
   "file_extension": ".py",
   "mimetype": "text/x-python",
   "name": "python",
   "nbconvert_exporter": "python",
   "pygments_lexer": "ipython3",
   "version": "3.8.8"
  }
 },
 "nbformat": 4,
 "nbformat_minor": 5
}
